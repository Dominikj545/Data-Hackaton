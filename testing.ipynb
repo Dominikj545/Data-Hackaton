{
 "cells": [
  {
   "cell_type": "code",
   "execution_count": 1,
   "id": "26e77d0a",
   "metadata": {},
   "outputs": [],
   "source": [
    "%matplotlib ipympl"
   ]
  },
  {
   "cell_type": "code",
   "execution_count": 4,
   "id": "87dcc851",
   "metadata": {
    "scrolled": false
   },
   "outputs": [
    {
     "data": {
      "application/vnd.jupyter.widget-view+json": {
       "model_id": "53fe9a0e778e4670956267d248a9f83c",
       "version_major": 2,
       "version_minor": 0
      },
      "text/plain": [
       "Map(center=[53.4268, -6.2562], controls=(ZoomControl(options=['position', 'zoom_in_text', 'zoom_in_title', 'zo…"
      ]
     },
     "metadata": {},
     "output_type": "display_data"
    },
    {
     "data": {
      "application/vnd.jupyter.widget-view+json": {
       "model_id": "39cc5edc33554029b02650ccb6fde63d",
       "version_major": 2,
       "version_minor": 0
      },
      "text/plain": [
       "IntSlider(value=1, continuous_update=False, description='Number of Airports:', max=89, min=1)"
      ]
     },
     "metadata": {},
     "output_type": "display_data"
    },
    {
     "data": {
      "application/vnd.jupyter.widget-view+json": {
       "model_id": "1b636f28b07a4a0b88f65557cf84b966",
       "version_major": 2,
       "version_minor": 0
      },
      "text/plain": [
       "SelectMultiple(description='Airports:', index=(0,), options=('KEFLAVIK', 'BRUSSELS', 'CHARLEROI/BRUSSELS SOUTH…"
      ]
     },
     "metadata": {},
     "output_type": "display_data"
    },
    {
     "data": {
      "application/vnd.jupyter.widget-view+json": {
       "model_id": "431f72b6f0dd441d978eafdd55356155",
       "version_major": 2,
       "version_minor": 0
      },
      "text/plain": [
       "Dropdown(description='Year:', options=(('All Years', None), ('2016', 2016), ('2017', 2017), ('2018', 2018), ('…"
      ]
     },
     "metadata": {},
     "output_type": "display_data"
    },
    {
     "data": {
      "application/vnd.jupyter.widget-view+json": {
       "model_id": "dfd85d5f0f064f7191a70246ba931af2",
       "version_major": 2,
       "version_minor": 0
      },
      "text/plain": [
       "Button(description='Plot Selected Airports', style=ButtonStyle())"
      ]
     },
     "metadata": {},
     "output_type": "display_data"
    },
    {
     "data": {
      "application/vnd.jupyter.widget-view+json": {
       "model_id": "641005aa7c6f4ea1b6bad79bae27aca7",
       "version_major": 2,
       "version_minor": 0
      },
      "text/plain": [
       "Button(description='Plot all Airports', style=ButtonStyle())"
      ]
     },
     "metadata": {},
     "output_type": "display_data"
    },
    {
     "data": {
      "application/vnd.jupyter.widget-view+json": {
       "model_id": "832cdf0cb232484f82ec8160893da820",
       "version_major": 2,
       "version_minor": 0
      },
      "text/plain": [
       "Output()"
      ]
     },
     "metadata": {},
     "output_type": "display_data"
    },
    {
     "data": {
      "application/vnd.jupyter.widget-view+json": {
       "model_id": "a9ae9812ce4f49c38fd73dd8baeae482",
       "version_major": 2,
       "version_minor": 0
      },
      "text/plain": [
       "Output()"
      ]
     },
     "metadata": {},
     "output_type": "display_data"
    },
    {
     "data": {
      "application/vnd.jupyter.widget-view+json": {
       "model_id": "6ae6c4b34f4347c4a6216dbd755e0c4b",
       "version_major": 2,
       "version_minor": 0
      },
      "text/plain": [
       "Output()"
      ]
     },
     "metadata": {},
     "output_type": "display_data"
    },
    {
     "data": {
      "application/vnd.jupyter.widget-view+json": {
       "model_id": "5ca01b56b2c947fa8be9d38621804f38",
       "version_major": 2,
       "version_minor": 0
      },
      "text/plain": [
       "Output()"
      ]
     },
     "metadata": {},
     "output_type": "display_data"
    },
    {
     "ename": "TraitError",
     "evalue": "The 'east' trait of a Map instance expected a float, not the NoneType None.",
     "output_type": "error",
     "traceback": [
      "\u001b[1;31m---------------------------------------------------------------------------\u001b[0m",
      "\u001b[1;31mTraitError\u001b[0m                                Traceback (most recent call last)",
      "File \u001b[1;32m~\\Downloads\\New folder\\Lib\\site-packages\\ipywidgets\\widgets\\widget.py:766\u001b[0m, in \u001b[0;36mWidget._handle_msg\u001b[1;34m(self, msg)\u001b[0m\n\u001b[0;32m    764\u001b[0m         \u001b[38;5;28;01mif\u001b[39;00m \u001b[38;5;124m'\u001b[39m\u001b[38;5;124mbuffer_paths\u001b[39m\u001b[38;5;124m'\u001b[39m \u001b[38;5;129;01min\u001b[39;00m data:\n\u001b[0;32m    765\u001b[0m             _put_buffers(state, data[\u001b[38;5;124m'\u001b[39m\u001b[38;5;124mbuffer_paths\u001b[39m\u001b[38;5;124m'\u001b[39m], msg[\u001b[38;5;124m'\u001b[39m\u001b[38;5;124mbuffers\u001b[39m\u001b[38;5;124m'\u001b[39m])\n\u001b[1;32m--> 766\u001b[0m         \u001b[38;5;28mself\u001b[39m\u001b[38;5;241m.\u001b[39mset_state(state)\n\u001b[0;32m    768\u001b[0m \u001b[38;5;66;03m# Handle a state request.\u001b[39;00m\n\u001b[0;32m    769\u001b[0m \u001b[38;5;28;01melif\u001b[39;00m method \u001b[38;5;241m==\u001b[39m \u001b[38;5;124m'\u001b[39m\u001b[38;5;124mrequest_state\u001b[39m\u001b[38;5;124m'\u001b[39m:\n",
      "File \u001b[1;32m~\\Downloads\\New folder\\Lib\\site-packages\\ipywidgets\\widgets\\widget.py:648\u001b[0m, in \u001b[0;36mWidget.set_state\u001b[1;34m(self, sync_data)\u001b[0m\n\u001b[0;32m    645\u001b[0m \u001b[38;5;28;01mif\u001b[39;00m name \u001b[38;5;129;01min\u001b[39;00m \u001b[38;5;28mself\u001b[39m\u001b[38;5;241m.\u001b[39mkeys:\n\u001b[0;32m    646\u001b[0m     from_json \u001b[38;5;241m=\u001b[39m \u001b[38;5;28mself\u001b[39m\u001b[38;5;241m.\u001b[39mtrait_metadata(name, \u001b[38;5;124m'\u001b[39m\u001b[38;5;124mfrom_json\u001b[39m\u001b[38;5;124m'\u001b[39m,\n\u001b[0;32m    647\u001b[0m                                     \u001b[38;5;28mself\u001b[39m\u001b[38;5;241m.\u001b[39m_trait_from_json)\n\u001b[1;32m--> 648\u001b[0m     \u001b[38;5;28mself\u001b[39m\u001b[38;5;241m.\u001b[39mset_trait(name, from_json(sync_data[name], \u001b[38;5;28mself\u001b[39m))\n",
      "File \u001b[1;32m~\\Downloads\\New folder\\Lib\\site-packages\\traitlets\\traitlets.py:1738\u001b[0m, in \u001b[0;36mHasTraits.set_trait\u001b[1;34m(self, name, value)\u001b[0m\n\u001b[0;32m   1736\u001b[0m     \u001b[38;5;28;01mraise\u001b[39;00m TraitError(\u001b[38;5;124mf\u001b[39m\u001b[38;5;124m\"\u001b[39m\u001b[38;5;124mClass \u001b[39m\u001b[38;5;132;01m{\u001b[39;00m\u001b[38;5;28mcls\u001b[39m\u001b[38;5;241m.\u001b[39m\u001b[38;5;18m__name__\u001b[39m\u001b[38;5;132;01m}\u001b[39;00m\u001b[38;5;124m does not have a trait named \u001b[39m\u001b[38;5;132;01m{\u001b[39;00mname\u001b[38;5;132;01m}\u001b[39;00m\u001b[38;5;124m\"\u001b[39m)\n\u001b[0;32m   1737\u001b[0m \u001b[38;5;28;01melse\u001b[39;00m:\n\u001b[1;32m-> 1738\u001b[0m     \u001b[38;5;28mgetattr\u001b[39m(\u001b[38;5;28mcls\u001b[39m, name)\u001b[38;5;241m.\u001b[39mset(\u001b[38;5;28mself\u001b[39m, value)\n",
      "File \u001b[1;32m~\\Downloads\\New folder\\Lib\\site-packages\\traitlets\\traitlets.py:703\u001b[0m, in \u001b[0;36mTraitType.set\u001b[1;34m(self, obj, value)\u001b[0m\n\u001b[0;32m    702\u001b[0m \u001b[38;5;28;01mdef\u001b[39;00m \u001b[38;5;21mset\u001b[39m(\u001b[38;5;28mself\u001b[39m, obj, value):\n\u001b[1;32m--> 703\u001b[0m     new_value \u001b[38;5;241m=\u001b[39m \u001b[38;5;28mself\u001b[39m\u001b[38;5;241m.\u001b[39m_validate(obj, value)\n\u001b[0;32m    704\u001b[0m     \u001b[38;5;28;01mtry\u001b[39;00m:\n\u001b[0;32m    705\u001b[0m         old_value \u001b[38;5;241m=\u001b[39m obj\u001b[38;5;241m.\u001b[39m_trait_values[\u001b[38;5;28mself\u001b[39m\u001b[38;5;241m.\u001b[39mname]\n",
      "File \u001b[1;32m~\\Downloads\\New folder\\Lib\\site-packages\\traitlets\\traitlets.py:735\u001b[0m, in \u001b[0;36mTraitType._validate\u001b[1;34m(self, obj, value)\u001b[0m\n\u001b[0;32m    733\u001b[0m     \u001b[38;5;28;01mreturn\u001b[39;00m value\n\u001b[0;32m    734\u001b[0m \u001b[38;5;28;01mif\u001b[39;00m \u001b[38;5;28mhasattr\u001b[39m(\u001b[38;5;28mself\u001b[39m, \u001b[38;5;124m\"\u001b[39m\u001b[38;5;124mvalidate\u001b[39m\u001b[38;5;124m\"\u001b[39m):\n\u001b[1;32m--> 735\u001b[0m     value \u001b[38;5;241m=\u001b[39m \u001b[38;5;28mself\u001b[39m\u001b[38;5;241m.\u001b[39mvalidate(obj, value)\n\u001b[0;32m    736\u001b[0m \u001b[38;5;28;01mif\u001b[39;00m obj\u001b[38;5;241m.\u001b[39m_cross_validation_lock \u001b[38;5;129;01mis\u001b[39;00m \u001b[38;5;28;01mFalse\u001b[39;00m:\n\u001b[0;32m    737\u001b[0m     value \u001b[38;5;241m=\u001b[39m \u001b[38;5;28mself\u001b[39m\u001b[38;5;241m.\u001b[39m_cross_validate(obj, value)\n",
      "File \u001b[1;32m~\\Downloads\\New folder\\Lib\\site-packages\\traitlets\\traitlets.py:2417\u001b[0m, in \u001b[0;36mFloat.validate\u001b[1;34m(self, obj, value)\u001b[0m\n\u001b[0;32m   2415\u001b[0m     value \u001b[38;5;241m=\u001b[39m \u001b[38;5;28mfloat\u001b[39m(value)\n\u001b[0;32m   2416\u001b[0m \u001b[38;5;28;01mif\u001b[39;00m \u001b[38;5;129;01mnot\u001b[39;00m \u001b[38;5;28misinstance\u001b[39m(value, \u001b[38;5;28mfloat\u001b[39m):\n\u001b[1;32m-> 2417\u001b[0m     \u001b[38;5;28mself\u001b[39m\u001b[38;5;241m.\u001b[39merror(obj, value)\n\u001b[0;32m   2418\u001b[0m \u001b[38;5;28;01mreturn\u001b[39;00m _validate_bounds(\u001b[38;5;28mself\u001b[39m, obj, value)\n",
      "File \u001b[1;32m~\\Downloads\\New folder\\Lib\\site-packages\\traitlets\\traitlets.py:841\u001b[0m, in \u001b[0;36mTraitType.error\u001b[1;34m(self, obj, value, error, info)\u001b[0m\n\u001b[0;32m    835\u001b[0m \u001b[38;5;28;01melse\u001b[39;00m:\n\u001b[0;32m    836\u001b[0m     e \u001b[38;5;241m=\u001b[39m \u001b[38;5;124m\"\u001b[39m\u001b[38;5;124mThe \u001b[39m\u001b[38;5;124m'\u001b[39m\u001b[38;5;132;01m{}\u001b[39;00m\u001b[38;5;124m'\u001b[39m\u001b[38;5;124m trait expected \u001b[39m\u001b[38;5;132;01m{}\u001b[39;00m\u001b[38;5;124m, not \u001b[39m\u001b[38;5;132;01m{}\u001b[39;00m\u001b[38;5;124m.\u001b[39m\u001b[38;5;124m\"\u001b[39m\u001b[38;5;241m.\u001b[39mformat(\n\u001b[0;32m    837\u001b[0m         \u001b[38;5;28mself\u001b[39m\u001b[38;5;241m.\u001b[39mname,\n\u001b[0;32m    838\u001b[0m         \u001b[38;5;28mself\u001b[39m\u001b[38;5;241m.\u001b[39minfo(),\n\u001b[0;32m    839\u001b[0m         describe(\u001b[38;5;124m\"\u001b[39m\u001b[38;5;124mthe\u001b[39m\u001b[38;5;124m\"\u001b[39m, value),\n\u001b[0;32m    840\u001b[0m     )\n\u001b[1;32m--> 841\u001b[0m \u001b[38;5;28;01mraise\u001b[39;00m TraitError(e)\n",
      "\u001b[1;31mTraitError\u001b[0m: The 'east' trait of a Map instance expected a float, not the NoneType None."
     ]
    }
   ],
   "source": [
    "import pandas as pd\n",
    "import sqlite3 as sql\n",
    "import matplotlib.pyplot as plt\n",
    "import ipywidgets as widgets\n",
    "from ipyleaflet import Map, Polyline, Marker, Popup, basemaps, WidgetControl\n",
    "from IPython.display import display, clear_output\n",
    "import matplotlib.dates as mdates\n",
    "\n",
    "output_widget_compare = widgets.Output()\n",
    "output_widget_fetch_data = widgets.Output()\n",
    "output_widget_plot_all = widgets.Output()\n",
    "output_widget_plot_selected = widgets.Output()\n",
    "\n",
    "# Function to update the output widget with the plot\n",
    "def update_output(fig, output_widget):\n",
    "    with output_widget:\n",
    "        clear_output(wait=True)\n",
    "        display(fig)\n",
    "'''\n",
    "def compareAirports(airports, year=None):   # the input for this function is a list called \"airports\"\n",
    "    con = sql.connect(\"flights.db\")\n",
    "    fig, ax = plt.subplots(figsize=(12, 6))\n",
    "\n",
    "    # this section queries the database to generate a df used to generate the time series for each \n",
    "    for airport in airports:\n",
    "        airport_param = \" \" + airport.strip() + \" \"\n",
    "        \n",
    "        if year is not None:\n",
    "            query = \"SELECT Time, No FROM flight_data WHERE Type='PAS' AND Airport=? AND YEAR=? AND AMOUNT = 'Total' ORDER BY Time\"\n",
    "            params = [airport_param, year]\n",
    "            \n",
    "            \n",
    "        else:    \n",
    "            query = \"SELECT Time, No FROM flight_data WHERE Type='PAS' AND Airport=? AND AMOUNT = 'Total' ORDER BY Time\"\n",
    "            df = pd.read_sql_query(query, con, params=[airport_param])\n",
    "            df['Time'] = pd.to_datetime(df['Time'], format='%Y-%m', errors='coerce')\n",
    "            params = [airport_param]\n",
    "\n",
    "        if df.empty:\n",
    "            print(f\"No data available for airport: {airport}\")\n",
    "            continue\n",
    "\n",
    "        ax.plot(df['Time'], df['No'], label=airport)\n",
    "\n",
    "    con.close()\n",
    "    \n",
    "    ax.set_title('Passenger Data', fontsize=18)\n",
    "    ax.set_ylabel('# Passengers', fontsize=16)\n",
    "    ax.set_ylim(bottom=0)\n",
    "    ax.tick_params(axis='both', labelsize=14)\n",
    "    box = ax.get_position()\n",
    "    ax.set_position([box.x0, box.y0, box.width * 0.8, box.height])\n",
    "    plt.grid(True, axis='y')\n",
    "\n",
    "    # Put a legend to the right of the current axis\n",
    "    ax.legend(title = \"Destination Airport(s)\", loc='center left', bbox_to_anchor=(1, 0.5))\n",
    "    \n",
    "    update_output(fig, output_widget_compare)\n",
    "'''\n",
    "def compareAirports(airports, year=None):\n",
    "    con = sql.connect(\"flights.db\")\n",
    "    fig, ax = plt.subplots(figsize=(12, 6))\n",
    "\n",
    "    for airport in airports:\n",
    "        airport_param = f\"%{airport.strip()}%\"  # Use the LIKE operator for a broader match\n",
    "        query = \"\"\"\n",
    "        SELECT Time, No FROM flight_data\n",
    "        WHERE Type='PAS' AND Airport LIKE ? AND AMOUNT = 'Total'\n",
    "        \"\"\"\n",
    "        params = [airport_param]\n",
    "\n",
    "        if year is not None:\n",
    "            query += \" AND strftime('%Y', Time) = ?\"\n",
    "            params.append(str(year))\n",
    "            datefmt = mdates.DateFormatter('%b')\n",
    "            ax.xaxis.set_major_formatter(datefmt)\n",
    "            #ax.xaxis.set_major_locator(mdates.MonthLocator())\n",
    "\n",
    "        query += \" ORDER BY Time\"\n",
    "        \n",
    "        df = pd.read_sql_query(query, con, params=params)\n",
    "\n",
    "        # Convert 'Time' to datetime, assuming the format is 'YYYY-MM-DD HH:MM:SS'\n",
    "        df['Time'] = pd.to_datetime(df['Time'], format='%Y-%m-%d %H:%M:%S', errors='coerce')\n",
    "\n",
    "        # Remove rows with NaT in 'Time' column\n",
    "        df = df.dropna(subset=['Time'])\n",
    "\n",
    "        if df.empty:\n",
    "            print(f\"No data available for airport: {airport}\")\n",
    "            continue\n",
    "\n",
    "        ax.plot(df['Time'], df['No'], label=airport)\n",
    "\n",
    "    con.close()\n",
    "    \n",
    "    \n",
    "    \n",
    "    ax.set_title('Passenger Data', fontsize=18)\n",
    "    ax.set_ylabel('# Passengers', fontsize=16)\n",
    "    ax.set_ylim(bottom=0)\n",
    "    ax.tick_params(axis='both', labelsize=14)\n",
    "    plt.grid(True, axis='y')\n",
    "\n",
    "    # Put a legend to the right of the current axis\n",
    "    ax.legend(title=\"Destination Airport(s)\", loc='center left', bbox_to_anchor=(1, 0.5))\n",
    "    \n",
    "    update_output(fig, output_widget_compare)\n",
    "\n",
    "\n",
    "def plot_all(airport):\n",
    "    con = sql.connect(\"flights.db\")\n",
    "    # Add spaces before and after the airport name\n",
    "   \n",
    "    query = \"SELECT Airport, Time, No FROM flight_data WHERE Type='PAS' AND AMOUNT = 'Total' ORDER BY Time\"\n",
    "    df1 = pd.read_sql_query(query, con)\n",
    "    con.close()\n",
    "\n",
    "    if df1.empty:\n",
    "        print(f\"No data available for airport: {airport}\")\n",
    "        return\n",
    "    \n",
    "\n",
    "    df1['Time'] = pd.to_datetime(df1['Time'], format='%Y-%m', errors='coerce')\n",
    "    if df1['Time'].isnull().any():\n",
    "        print(\"Some dates were not parsed correctly\")\n",
    "        \n",
    "    fig, ax = plt.subplots(figsize=(12, 6))\n",
    "\n",
    "    for airport in df1['Airport'].unique():\n",
    "        airport_df = df1[df1['Airport'] == airport]\n",
    "        ax.plot(airport_df['Time'], airport_df['No'], label=airport.strip())\n",
    "\n",
    "    plt.title('Passenger Data for All Airports', fontsize=18)\n",
    "    ax.set_ylabel('# Passengers', fontsize=16)\n",
    "    ax.set_ylim(bottom=0)\n",
    "    ax.tick_params(axis='both', labelsize=14)\n",
    "    box = ax.get_position()\n",
    "    ax.set_position([box.x0, box.y0, box.width * 0.8, box.height])\n",
    "\n",
    "    # Put a legend to the right of the current axis\n",
    "    ax.legend(title = \"Destination Airport(s)\", loc='center left', bbox_to_anchor=(1, 0.5))\n",
    "    update_output(fig, output_widget_plot_all)\n",
    "\n",
    "'''\n",
    "year_dropdown = widgets.Dropdown(\n",
    "    options=[('All Years', None)] + [(str(year), year) for year in range(2016, 2023)],\n",
    "    value=None,\n",
    "    description='Year:',\n",
    "    disabled=False,\n",
    ")\n",
    "'''\n",
    "\n",
    "# Connect to the SQLite database\n",
    "conn = sql.connect('flights.db')\n",
    "cur = conn.cursor()\n",
    "\n",
    "# Select the required columns from the airport_data table\n",
    "query = \"SELECT Airport, lat_decimal, lon_decimal FROM airport_data;\"\n",
    "cur.execute(query)\n",
    "all_destinations_data = cur.fetchall()\n",
    "\n",
    "# Close the connection to the database\n",
    "conn.close()\n",
    "\n",
    "\n",
    "# Convert the results into a DataFrame\n",
    "flights_df = pd.DataFrame(all_destinations_data, columns=['Airport', 'lat_decimal', 'lon_decimal'])\n",
    "\n",
    "# Coordinates for Dublin\n",
    "dublin_coords = (53.4268, -6.2562)\n",
    "\n",
    "# Initialize the map centered at Dublin\n",
    "m = Map(center=dublin_coords, zoom=6, basemap=basemaps.OpenStreetMap.Mapnik) \n",
    "\n",
    "selected_airports = {}\n",
    "\n",
    "def create_polyline(airport, coordinates):\n",
    "    # Check if either coordinate is None\n",
    "    if any(coord is None for coord in coordinates):\n",
    "        print(f\"Invalid coordinates for {airport}: {coordinates}\")\n",
    "        return None\n",
    "\n",
    "    polyline = Polyline(locations=coordinates, color=\"blue\", fill=False)\n",
    "    polyline = Polyline(locations=coordinates, color=\"blue\", fill=False)\n",
    "    hover_popup = Popup(location=coordinates[-1], child=widgets.HTML(value=f\"<b>{airport}</b>\"), close_button=False, auto_close=False)\n",
    "    polyline.popup = hover_popup\n",
    "\n",
    "    def on_click(event=None, properties=None, **args):\n",
    "        if airport not in selected_airports:\n",
    "            selected_airports[airport] = polyline\n",
    "            polyline.color = \"red\"  # Change color to indicate selection\n",
    "        else:\n",
    "            # Deselect and revert color\n",
    "            del selected_airports[airport]\n",
    "            polyline.color = \"blue\"\n",
    "        print(f\"Selected Airports: {list(selected_airports.keys())}\")\n",
    "\n",
    "    polyline.on_click(on_click)\n",
    "    return polyline\n",
    "\n",
    "# Function to plot selected airports\n",
    "def plot_selected_airports(b):\n",
    "    clear_output(wait=True)\n",
    "    selected_year = year_dropdown.value\n",
    "    if selected_airports:\n",
    "        compareAirports(selected_airports, year=selected_year)\n",
    "    else:\n",
    "        print(\"No airports selected.\")\n",
    "    # Only update the output widget, not the entire layout\n",
    "    display(output_widget_compare)\n",
    "\n",
    "plot_button = widgets.Button(description=\"Plot Selected Airports\")\n",
    "plot_button.on_click(plot_selected_airports)\n",
    "# Function to update the map based on the selected airports\n",
    "def update_map(selected_airports):\n",
    "    m.layers = [m.layers[0]]  # Reset to only keep the base layer\n",
    "\n",
    "    # Add marker for Dublin\n",
    "    dublin_marker = Marker(location=dublin_coords)\n",
    "    m.add_layer(dublin_marker)\n",
    "\n",
    "    # Add flight paths with popups\n",
    "    for airport in selected_airports:\n",
    "        airport_data = flights_df[flights_df['Airport'] == airport]\n",
    "        for _, row in airport_data.iterrows():\n",
    "            path = [(dublin_coords[0], dublin_coords[1]), (row['lat_decimal'], row['lon_decimal'])]\n",
    "            polyline = create_polyline(airport, path)\n",
    "            m.add_layer(polyline)\n",
    "\n",
    "\n",
    "# Create a slider widget for selecting the number of airports\n",
    "num_airports_slider = widgets.IntSlider(\n",
    "    value=1,\n",
    "    min=1,\n",
    "    max=len(flights_df),\n",
    "    step=1,\n",
    "    description='Number of Airports:',\n",
    "    continuous_update=False\n",
    ")\n",
    "\n",
    "# Create a dropdown menu for selecting specific airports\n",
    "airport_select = widgets.SelectMultiple(\n",
    "    options=flights_df['Airport'].unique().tolist(),\n",
    "    value=[flights_df['Airport'].unique()[0]],\n",
    "    description='Airports:',\n",
    "    disabled=False\n",
    ")\n",
    "\n",
    "\n",
    "# Link the slider and the dropdown menu to the update function\n",
    "def on_slider_change(change):\n",
    "    selected_airports = flights_df['Airport'].unique()[:change['new']]\n",
    "    update_map(selected_airports)\n",
    "\n",
    "year_dropdown = widgets.Dropdown(\n",
    "    options=[('All Years', None)] + [(str(year), year) for year in range(2016, 2023)],\n",
    "    value=None,\n",
    "    description='Year:',\n",
    "    disabled=False,\n",
    ")    \n",
    "    \n",
    "def on_airport_change(change):\n",
    "    update_map(change['new'])\n",
    "    \n",
    "def plot_selected_airports(b):\n",
    "    selected_year = year_dropdown.value\n",
    "    if selected_airports:\n",
    "        compareAirports(selected_airports, year=selected_year)\n",
    "    else:\n",
    "        with output_widget_compare:\n",
    "            clear_output(wait=True)\n",
    "            print(\"No airports selected.\")\n",
    "\n",
    "plot_all_button = widgets.Button(description=\"Plot all Airports\")\n",
    "plot_all_button.on_click(plot_all)\n",
    "plot_button = widgets.Button(description=\"Plot Selected Airports\")\n",
    "plot_button.on_click(plot_selected_airports)\n",
    "\n",
    "num_airports_slider.observe(on_slider_change, names='value')\n",
    "airport_select.observe(on_airport_change, names='value')\n",
    "\n",
    "# Display the map, slider, dropdown menu, and plot button\n",
    "display(m)\n",
    "display(num_airports_slider)\n",
    "display(airport_select)\n",
    "display(year_dropdown)\n",
    "display(plot_button)\n",
    "display(plot_all_button)\n",
    "display(output_widget_compare)\n",
    "display(output_widget_fetch_data)\n",
    "display(output_widget_plot_all)\n",
    "display(output_widget_plot_selected)"
   ]
  },
  {
   "cell_type": "code",
   "execution_count": null,
   "id": "b0db1db9",
   "metadata": {},
   "outputs": [],
   "source": []
  },
  {
   "cell_type": "code",
   "execution_count": null,
   "id": "baa842e4",
   "metadata": {},
   "outputs": [],
   "source": []
  },
  {
   "cell_type": "code",
   "execution_count": null,
   "id": "e943a166",
   "metadata": {},
   "outputs": [],
   "source": []
  }
 ],
 "metadata": {
  "kernelspec": {
   "display_name": "Python 3 (ipykernel)",
   "language": "python",
   "name": "python3"
  },
  "language_info": {
   "codemirror_mode": {
    "name": "ipython",
    "version": 3
   },
   "file_extension": ".py",
   "mimetype": "text/x-python",
   "name": "python",
   "nbconvert_exporter": "python",
   "pygments_lexer": "ipython3",
   "version": "3.11.4"
  }
 },
 "nbformat": 4,
 "nbformat_minor": 5
}
