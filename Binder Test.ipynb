{
 "cells": [
  {
   "cell_type": "code",
   "execution_count": 1,
   "id": "e1520d1c",
   "metadata": {},
   "outputs": [
    {
     "data": {
      "application/vnd.jupyter.widget-view+json": {
       "model_id": "5444e05e4a4e4a5c9045d2a47a126ec9",
       "version_major": 2,
       "version_minor": 0
      },
      "text/plain": [
       "Map(center=[53.4268, -6.2562], controls=(ZoomControl(options=['position', 'zoom_in_text', 'zoom_in_title', 'zo…"
      ]
     },
     "metadata": {},
     "output_type": "display_data"
    },
    {
     "data": {
      "application/vnd.jupyter.widget-view+json": {
       "model_id": "e7e7df454fa14061b18e1dd75c023825",
       "version_major": 2,
       "version_minor": 0
      },
      "text/plain": [
       "IntSlider(value=1, continuous_update=False, description='Number of Airports:', max=90, min=1)"
      ]
     },
     "metadata": {},
     "output_type": "display_data"
    },
    {
     "data": {
      "application/vnd.jupyter.widget-view+json": {
       "model_id": "e9f42f5d3c284929931ce887edfdb63e",
       "version_major": 2,
       "version_minor": 0
      },
      "text/plain": [
       "SelectMultiple(description='Airports:', index=(0,), options=('KEFLAVIK', 'TORONTO/LESTER B. PEARSON INTL, ON',…"
      ]
     },
     "metadata": {},
     "output_type": "display_data"
    }
   ],
   "source": [
    "import pandas as pd\n",
    "import sqlite3 as sql\n",
    "import ipywidgets as widgets\n",
    "from ipyleaflet import Map, Polyline, Marker, Popup, basemaps, LayersControl\n",
    "from IPython.display import display\n",
    "\n",
    "# Connect to the SQLite database\n",
    "conn = sql.connect('flights.db')\n",
    "cur = conn.cursor()\n",
    "\n",
    "# Select the required columns from the airport_data table\n",
    "query = \"SELECT Airport, lat_decimal, lon_decimal FROM airport_data;\"\n",
    "cur.execute(query)\n",
    "all_destinations_data = cur.fetchall()\n",
    "\n",
    "# Close the connection to the database\n",
    "conn.close()\n",
    "\n",
    "# Convert the results into a DataFrame\n",
    "flights_df = pd.DataFrame(all_destinations_data, columns=['Airport', 'lat_decimal', 'lon_decimal'])\n",
    "\n",
    "# Coordinates for Dublin\n",
    "dublin_coords = (53.4268, -6.2562)\n",
    "\n",
    "# Initialize the map centered at Dublin\n",
    "m = Map(center=dublin_coords, zoom=6, basemap=basemaps.OpenStreetMap.Mapnik)\n",
    "\n",
    "# Function to update the map based on the selected airports\n",
    "def update_map(selected_airports):\n",
    "    m.layers = [m.layers[0]]  # Reset to only keep the base layer\n",
    "\n",
    "    # Add marker for Dublin\n",
    "    dublin_marker = Marker(location=dublin_coords)\n",
    "    m.add_layer(dublin_marker)\n",
    "\n",
    "    # Add flight paths with popups\n",
    "    for airport in selected_airports:\n",
    "        airport_data = flights_df[flights_df['Airport'] == airport]\n",
    "        for _, row in airport_data.iterrows():\n",
    "            path = [(dublin_coords[0], dublin_coords[1]), (row['lat_decimal'], row['lon_decimal'])]\n",
    "            polyline = Polyline(locations=path, color=\"blue\", fill=False)\n",
    "            popup = Popup(\n",
    "                location=(row['lat_decimal'], row['lon_decimal']),\n",
    "                child=widgets.HTML(value=f\"<b>{airport}</b>\"),\n",
    "                close_button=False,\n",
    "            )\n",
    "            polyline.popup = popup\n",
    "            m.add_layer(polyline)\n",
    "\n",
    "# Create a slider widget for selecting the number of airports\n",
    "num_airports_slider = widgets.IntSlider(\n",
    "    value=1,\n",
    "    min=1,\n",
    "    max=len(flights_df),\n",
    "    step=1,\n",
    "    description='Number of Airports:',\n",
    "    continuous_update=False\n",
    ")\n",
    "\n",
    "# Create a dropdown menu for selecting specific airports\n",
    "airport_select = widgets.SelectMultiple(\n",
    "    options=flights_df['Airport'].unique().tolist(),\n",
    "    value=[flights_df['Airport'].unique()[0]],\n",
    "    description='Airports:',\n",
    "    disabled=False\n",
    ")\n",
    "\n",
    "# Link the slider and the dropdown menu to the update function\n",
    "def on_slider_change(change):\n",
    "    selected_airports = flights_df['Airport'].unique()[:change['new']]\n",
    "    update_map(selected_airports)\n",
    "\n",
    "def on_airport_change(change):\n",
    "    update_map(change['new'])\n",
    "\n",
    "num_airports_slider.observe(on_slider_change, names='value')\n",
    "airport_select.observe(on_airport_change, names='value')\n",
    "\n",
    "# Display the map, the slider, and the dropdown menu\n",
    "display(m)\n",
    "display(num_airports_slider)\n",
    "display(airport_select)\n"
   ]
  },
  {
   "cell_type": "code",
   "execution_count": null,
   "id": "044b92c3",
   "metadata": {},
   "outputs": [],
   "source": []
  }
 ],
 "metadata": {
  "kernelspec": {
   "display_name": "Python 3 (ipykernel)",
   "language": "python",
   "name": "python3"
  },
  "language_info": {
   "codemirror_mode": {
    "name": "ipython",
    "version": 3
   },
   "file_extension": ".py",
   "mimetype": "text/x-python",
   "name": "python",
   "nbconvert_exporter": "python",
   "pygments_lexer": "ipython3",
   "version": "3.11.4"
  }
 },
 "nbformat": 4,
 "nbformat_minor": 5
}
